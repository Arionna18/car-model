{
 "cells": [
  {
   "cell_type": "code",
   "execution_count": 14,
   "id": "8f4f4564-63b9-490a-b327-a4ce43173b8d",
   "metadata": {},
   "outputs": [],
   "source": [
    "#vehicle class\n",
    "class Vehicle:\n",
    "    def _init_(self):\n",
    "        self.type_vehicle = None\n",
    "        def set_vehicle_type(self, type_vehicle):\n",
    "            self.type_vehicle = type_vehicle\n",
    "class automobile(Vehicle):\n",
    "    def _init_(self):\n",
    "        super()._init_()\n",
    "        self.year = None\n",
    "        self.make = None\n",
    "        self.model = None\n",
    "        self.doors = None\n",
    "        self.roof = None\n",
    "\n",
    "    def set_styles(self, year, make, model, doors, roof):\n",
    "        self.year = year\n",
    "        self.make = make\n",
    "        self.model = model\n",
    "        self.doors = doors\n",
    "        self.roof = roof\n",
    "        \n",
    "    def display_details(self):\n",
    "        print(\"Vehicle type: {}\". format (self.type_vehicle))\n",
    "        print(\"Year: {}\". format(self.year))\n",
    "        print(\"make: {}\". fomat(self.make))\n",
    "        print(\"model: {}\". format(self.model))\n",
    "        print(\"doors: {}\".format(self.doors))\n",
    "        print(\"roof: {}\". format(self.roof))\n",
    "\n",
    "def main():\n",
    "    car = automobile()\n",
    "    type_vehicle = \"car\"\n",
    "    year = input(\"Enter the car year:\")\n",
    "    make = input(\"Enter the car make:\")\n",
    "    model= input(\"Enter the car model:\")\n",
    "    doors= input(\"Enter the number of doors:\")\n",
    "    roof= input(\"Enter the type of roof:\")\n",
    "    car.set_type_vehicle(type_vehicle)\n",
    "    car.set_style(year, make, model, doors, roof)\n",
    "    car.display_details()\n",
    "    if _name_ == \"_main_\":\n",
    "        main()\n",
    "\n",
    "\n",
    "\n",
    "\n",
    "\n",
    "\n",
    "    \n"
   ]
  },
  {
   "cell_type": "code",
   "execution_count": null,
   "id": "c8e17c85-0bcd-4bd5-b458-cf4465a54c85",
   "metadata": {},
   "outputs": [],
   "source": []
  }
 ],
 "metadata": {
  "kernelspec": {
   "display_name": "Python 3 (ipykernel)",
   "language": "python",
   "name": "python3"
  },
  "language_info": {
   "codemirror_mode": {
    "name": "ipython",
    "version": 3
   },
   "file_extension": ".py",
   "mimetype": "text/x-python",
   "name": "python",
   "nbconvert_exporter": "python",
   "pygments_lexer": "ipython3",
   "version": "3.12.4"
  }
 },
 "nbformat": 4,
 "nbformat_minor": 5
}
